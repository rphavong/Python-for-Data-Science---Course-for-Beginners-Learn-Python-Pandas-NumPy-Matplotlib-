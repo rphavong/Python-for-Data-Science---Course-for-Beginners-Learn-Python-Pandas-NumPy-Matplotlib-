{
 "cells": [
  {
   "cell_type": "markdown",
   "id": "5557fece-8ceb-4bf5-80f2-ce6c6ed50127",
   "metadata": {},
   "source": [
    "# This is Python Tutorial"
   ]
  },
  {
   "cell_type": "markdown",
   "id": "17249642-4101-442c-9e45-4290ab9e2a3e",
   "metadata": {},
   "source": [
    "This is our first program in python: Just starting here"
   ]
  },
  {
   "cell_type": "code",
   "execution_count": 3,
   "id": "84673387-45a3-4890-bb67-d0c3cddaf4eb",
   "metadata": {},
   "outputs": [
    {
     "name": "stdout",
     "output_type": "stream",
     "text": [
      "Hello World\n"
     ]
    }
   ],
   "source": [
    "print(\"Hello World\")"
   ]
  },
  {
   "cell_type": "code",
   "execution_count": 4,
   "id": "b424c197-4582-4e84-9a0a-dc76d26cd474",
   "metadata": {},
   "outputs": [],
   "source": [
    "# Print formula of a equation\n",
    "# $a=b+c$ ## This did not work as intended from the tutorial"
   ]
  },
  {
   "cell_type": "markdown",
   "id": "a9391d51-6658-4840-a2cf-b53d3cb39bd4",
   "metadata": {},
   "source": [
    "# Variables"
   ]
  },
  {
   "cell_type": "code",
   "execution_count": 5,
   "id": "0e8ef505-b9e5-47b1-b5e0-b1fbaae04dd7",
   "metadata": {},
   "outputs": [],
   "source": [
    "# Examples of integer\n",
    "x = 2 \n",
    "y = 5 \n",
    "# Example of float\n",
    "xy = 7.2 \n",
    "# Assigning multiple values, in this example an integer and a float\n",
    "a,b = 4, 5.0 # note that a = 4 and b = 5.0"
   ]
  },
  {
   "cell_type": "code",
   "execution_count": 6,
   "id": "d5106330-8404-425f-96be-09052b5decbe",
   "metadata": {},
   "outputs": [],
   "source": [
    "x = 3"
   ]
  },
  {
   "cell_type": "code",
   "execution_count": 7,
   "id": "06813b65-b91a-4847-be21-e92eb630f984",
   "metadata": {},
   "outputs": [
    {
     "name": "stdout",
     "output_type": "stream",
     "text": [
      "Variable   Type     Data/Info\n",
      "-----------------------------\n",
      "a          int      4\n",
      "b          float    5.0\n",
      "x          int      3\n",
      "xy         float    7.2\n",
      "y          int      5\n"
     ]
    }
   ],
   "source": [
    "# This function will let you know the variables being saved!!!\n",
    "%whos"
   ]
  },
  {
   "cell_type": "code",
   "execution_count": 8,
   "id": "d760debf-a5ce-4dc7-bfde-48efbe248d59",
   "metadata": {},
   "outputs": [
    {
     "name": "stdout",
     "output_type": "stream",
     "text": [
      "<class 'int'>\n"
     ]
    }
   ],
   "source": [
    "# Determine the class of a variable\n",
    "print(type(x))"
   ]
  },
  {
   "cell_type": "code",
   "execution_count": 9,
   "id": "fa6b075d-3d85-48f2-9e8d-19f0f4435ab6",
   "metadata": {},
   "outputs": [],
   "source": [
    "abcd = 556.32"
   ]
  },
  {
   "cell_type": "code",
   "execution_count": 10,
   "id": "e67c73c9-ca8c-4564-a95e-7f2205ee1613",
   "metadata": {},
   "outputs": [
    {
     "name": "stdout",
     "output_type": "stream",
     "text": [
      "Variable   Type     Data/Info\n",
      "-----------------------------\n",
      "a          int      4\n",
      "abcd       float    556.32\n",
      "b          float    5.0\n",
      "x          int      3\n",
      "xy         float    7.2\n",
      "y          int      5\n"
     ]
    }
   ],
   "source": [
    "%whos"
   ]
  },
  {
   "cell_type": "code",
   "execution_count": 11,
   "id": "99666dfe-ee9b-4668-b926-acec9c2ba737",
   "metadata": {},
   "outputs": [],
   "source": [
    "a,b,c,d,f = 3, 5, 6.0, 7.2, -3"
   ]
  },
  {
   "cell_type": "code",
   "execution_count": 12,
   "id": "daa427c9-b276-47ce-ae32-62e59865a4b6",
   "metadata": {},
   "outputs": [
    {
     "name": "stdout",
     "output_type": "stream",
     "text": [
      "Variable   Type     Data/Info\n",
      "-----------------------------\n",
      "a          int      3\n",
      "abcd       float    556.32\n",
      "b          int      5\n",
      "c          float    6.0\n",
      "d          float    7.2\n",
      "f          int      -3\n",
      "x          int      3\n",
      "xy         float    7.2\n",
      "y          int      5\n"
     ]
    }
   ],
   "source": [
    "%whos"
   ]
  },
  {
   "cell_type": "code",
   "execution_count": 13,
   "id": "15dbb722-342b-489e-9b48-6a1914899465",
   "metadata": {},
   "outputs": [],
   "source": [
    "# Delete a variable previously assigned\n",
    "del abcd"
   ]
  },
  {
   "cell_type": "code",
   "execution_count": 14,
   "id": "9b556dff-f070-437b-8a42-31d76a47a15c",
   "metadata": {},
   "outputs": [
    {
     "name": "stdout",
     "output_type": "stream",
     "text": [
      "Variable   Type     Data/Info\n",
      "-----------------------------\n",
      "a          int      3\n",
      "b          int      5\n",
      "c          float    6.0\n",
      "d          float    7.2\n",
      "f          int      -3\n",
      "x          int      3\n",
      "xy         float    7.2\n",
      "y          int      5\n"
     ]
    }
   ],
   "source": [
    "%whos"
   ]
  },
  {
   "cell_type": "code",
   "execution_count": 15,
   "id": "f844dca1-7588-44c0-b475-a6e9a4d8d0b8",
   "metadata": {},
   "outputs": [],
   "source": [
    "# Complex variable\n",
    "c = 2 + 4j"
   ]
  },
  {
   "cell_type": "code",
   "execution_count": 16,
   "id": "8b21ff72-f0d8-48d1-9b26-53d75b09ba29",
   "metadata": {},
   "outputs": [
    {
     "name": "stdout",
     "output_type": "stream",
     "text": [
      "<class 'complex'>\n"
     ]
    }
   ],
   "source": [
    "print(type(c))"
   ]
  },
  {
   "cell_type": "code",
   "execution_count": 17,
   "id": "3d35246b-2719-4fdb-a847-951e89d35125",
   "metadata": {},
   "outputs": [],
   "source": [
    "# Another example of a complex variable/string\n",
    "s = \"hello how are you\""
   ]
  },
  {
   "cell_type": "code",
   "execution_count": 18,
   "id": "7e73c229-bfda-4b94-8ea1-4f4b2d326c03",
   "metadata": {},
   "outputs": [
    {
     "name": "stdout",
     "output_type": "stream",
     "text": [
      "<class 'str'>\n"
     ]
    }
   ],
   "source": [
    "print(type(s))"
   ]
  },
  {
   "cell_type": "markdown",
   "id": "d1965875-2799-4ecf-b054-a56f2fba9013",
   "metadata": {},
   "source": [
    "# Operators"
   ]
  },
  {
   "cell_type": "code",
   "execution_count": 19,
   "id": "65e9f597-4bb5-43f5-8f1b-90196ac207cd",
   "metadata": {},
   "outputs": [],
   "source": [
    "# Recall that operators are basically mathematical operations, such as \"+, -, *, /, etc ...\"\n",
    "## Special operators\n",
    "# %  = mod\n",
    "# ** = to the power\n",
    "# // floor division"
   ]
  },
  {
   "cell_type": "code",
   "execution_count": 20,
   "id": "4820d41b-7777-4085-aa0c-64d1b7a89042",
   "metadata": {},
   "outputs": [
    {
     "name": "stdout",
     "output_type": "stream",
     "text": [
      "Variable   Type       Data/Info\n",
      "-------------------------------\n",
      "a          int        3\n",
      "b          int        5\n",
      "c          complex    (2+4j)\n",
      "d          float      7.2\n",
      "f          int        -3\n",
      "s          str        hello how are you\n",
      "x          int        3\n",
      "xy         float      7.2\n",
      "y          int        5\n"
     ]
    }
   ],
   "source": [
    "%whos"
   ]
  },
  {
   "cell_type": "code",
   "execution_count": 21,
   "id": "a289823b-bbc1-4456-99bb-89393ef822e9",
   "metadata": {},
   "outputs": [
    {
     "name": "stdout",
     "output_type": "stream",
     "text": [
      "8\n"
     ]
    }
   ],
   "source": [
    "sum_ab = a+b\n",
    "print(sum_ab)"
   ]
  },
  {
   "cell_type": "code",
   "execution_count": 22,
   "id": "b043e91f-f6c6-4a1f-b131-05c3bbb23552",
   "metadata": {},
   "outputs": [
    {
     "data": {
      "text/plain": [
       "int"
      ]
     },
     "execution_count": 22,
     "metadata": {},
     "output_type": "execute_result"
    }
   ],
   "source": [
    "type(sum_ab)"
   ]
  },
  {
   "cell_type": "code",
   "execution_count": 23,
   "id": "b0a73922-3d0a-4f6d-beee-a4b7f537ae5c",
   "metadata": {},
   "outputs": [
    {
     "data": {
      "text/plain": [
       "float"
      ]
     },
     "execution_count": 23,
     "metadata": {},
     "output_type": "execute_result"
    }
   ],
   "source": [
    "# Note that because one of the values is a float, it will default to a float\n",
    "type(a+d)"
   ]
  },
  {
   "cell_type": "code",
   "execution_count": 24,
   "id": "71bb07fb-b8cb-4466-bf46-53c9a88e33fd",
   "metadata": {},
   "outputs": [
    {
     "name": "stdout",
     "output_type": "stream",
     "text": [
      "265.30199999999996\n"
     ]
    }
   ],
   "source": [
    "v = ((a+d)**3)/4\n",
    "print(v)"
   ]
  },
  {
   "cell_type": "code",
   "execution_count": 25,
   "id": "d64f7345-27db-4ac9-b025-c23eb64cb5e7",
   "metadata": {},
   "outputs": [
    {
     "name": "stdout",
     "output_type": "stream",
     "text": [
      "helloworld\n"
     ]
    }
   ],
   "source": [
    "s1 = \"hello\"\n",
    "s2 = \"world\"\n",
    "s = s1 + s2\n",
    "print(s)"
   ]
  },
  {
   "cell_type": "code",
   "execution_count": 26,
   "id": "052c20a9-2e70-43a8-bb89-1343b4b0d02a",
   "metadata": {},
   "outputs": [
    {
     "data": {
      "text/plain": [
       "3"
      ]
     },
     "execution_count": 26,
     "metadata": {},
     "output_type": "execute_result"
    }
   ],
   "source": [
    "# Recall that '//' prints out the remainder\n",
    "10//3"
   ]
  },
  {
   "cell_type": "code",
   "execution_count": 27,
   "id": "364342eb-2fc3-48ae-920c-332ec33aed78",
   "metadata": {},
   "outputs": [
    {
     "data": {
      "text/plain": [
       "3.3333333333333335"
      ]
     },
     "execution_count": 27,
     "metadata": {},
     "output_type": "execute_result"
    }
   ],
   "source": [
    "10/3"
   ]
  },
  {
   "cell_type": "code",
   "execution_count": 28,
   "id": "5f70ddb5-b002-4612-88a0-9ada695bdd95",
   "metadata": {},
   "outputs": [
    {
     "ename": "SyntaxError",
     "evalue": "invalid decimal literal (944665886.py, line 4)",
     "output_type": "error",
     "traceback": [
      "\u001b[0;36m  Cell \u001b[0;32mIn[28], line 4\u001b[0;36m\u001b[0m\n\u001b[0;31m    3x = 4\u001b[0m\n\u001b[0m    ^\u001b[0m\n\u001b[0;31mSyntaxError\u001b[0m\u001b[0;31m:\u001b[0m invalid decimal literal\n"
     ]
    }
   ],
   "source": [
    "# '_' can be used for psuedo-variabling\n",
    "# Can a variable name start with a digit i.e. 3x? --> No\n",
    "# Example\n",
    "3x = 4"
   ]
  },
  {
   "cell_type": "code",
   "execution_count": 29,
   "id": "ba71294c-5fe6-45ba-b4f7-394950246771",
   "metadata": {},
   "outputs": [
    {
     "ename": "SyntaxError",
     "evalue": "invalid syntax. Maybe you meant '==' or ':=' instead of '='? (95289484.py, line 2)",
     "output_type": "error",
     "traceback": [
      "\u001b[0;36m  Cell \u001b[0;32mIn[29], line 2\u001b[0;36m\u001b[0m\n\u001b[0;31m    @y=4\u001b[0m\n\u001b[0m     ^\u001b[0m\n\u001b[0;31mSyntaxError\u001b[0m\u001b[0;31m:\u001b[0m invalid syntax. Maybe you meant '==' or ':=' instead of '='?\n"
     ]
    }
   ],
   "source": [
    "# Naming convention to variables\n",
    "@y=4"
   ]
  },
  {
   "cell_type": "code",
   "execution_count": 30,
   "id": "b14cfeae-8abc-40e4-b3a8-de9e2350bc1f",
   "metadata": {},
   "outputs": [
    {
     "ename": "SyntaxError",
     "evalue": "starred assignment target must be in a list or tuple (586144205.py, line 1)",
     "output_type": "error",
     "traceback": [
      "\u001b[0;36m  Cell \u001b[0;32mIn[30], line 1\u001b[0;36m\u001b[0m\n\u001b[0;31m    *t=4\u001b[0m\n\u001b[0m    ^\u001b[0m\n\u001b[0;31mSyntaxError\u001b[0m\u001b[0;31m:\u001b[0m starred assignment target must be in a list or tuple\n"
     ]
    }
   ],
   "source": [
    "*t=4"
   ]
  },
  {
   "cell_type": "code",
   "execution_count": 31,
   "id": "49c19fe0-d3d2-4a9b-8b3c-8efdbe2467ea",
   "metadata": {},
   "outputs": [],
   "source": [
    "# '_e' is an exception to assigning as a variable\n",
    "_e = 6"
   ]
  },
  {
   "cell_type": "code",
   "execution_count": 32,
   "id": "368059e4-2f19-4fb2-8f1e-f332def3d43c",
   "metadata": {},
   "outputs": [],
   "source": [
    "# Camel notation\n",
    "startingTimeOfTheCourse = 2.0"
   ]
  },
  {
   "cell_type": "code",
   "execution_count": 33,
   "id": "f6926a1e-a15e-4ce2-a85a-0068dc30dddf",
   "metadata": {},
   "outputs": [
    {
     "name": "stdout",
     "output_type": "stream",
     "text": [
      "Variable                  Type       Data/Info\n",
      "----------------------------------------------\n",
      "a                         int        3\n",
      "b                         int        5\n",
      "c                         complex    (2+4j)\n",
      "d                         float      7.2\n",
      "f                         int        -3\n",
      "s                         str        helloworld\n",
      "s1                        str        hello\n",
      "s2                        str        world\n",
      "startingTimeOfTheCourse   float      2.0\n",
      "sum_ab                    int        8\n",
      "v                         float      265.30199999999996\n",
      "x                         int        3\n",
      "xy                        float      7.2\n",
      "y                         int        5\n"
     ]
    }
   ],
   "source": [
    "%whos"
   ]
  },
  {
   "cell_type": "markdown",
   "id": "b9c9b2b1-9d51-4318-81c4-cd1ff07cadc0",
   "metadata": {},
   "source": [
    "# Boolean Expressions\n",
    "### True or False comparisons\n",
    "#### '==' : True, if it is equal\n",
    "#### '!=' : True, if not equal to'\n",
    "#### '<' : less than\n",
    "#### '>' : greater than\n",
    "#### '<=' : less than or equal to\n",
    "#### '>=' : greater than or equal to"
   ]
  },
  {
   "cell_type": "code",
   "execution_count": 34,
   "id": "f260ce0b-2d45-4eb3-bdcc-f868b570499e",
   "metadata": {},
   "outputs": [],
   "source": [
    "a = True\n",
    "b = True\n",
    "c = False"
   ]
  },
  {
   "cell_type": "code",
   "execution_count": 35,
   "id": "aff11b9a-a49d-44b4-8b81-dee93beb3714",
   "metadata": {},
   "outputs": [
    {
     "name": "stdout",
     "output_type": "stream",
     "text": [
      "Variable                  Type     Data/Info\n",
      "--------------------------------------------\n",
      "a                         bool     True\n",
      "b                         bool     True\n",
      "c                         bool     False\n",
      "d                         float    7.2\n",
      "f                         int      -3\n",
      "s                         str      helloworld\n",
      "s1                        str      hello\n",
      "s2                        str      world\n",
      "startingTimeOfTheCourse   float    2.0\n",
      "sum_ab                    int      8\n",
      "v                         float    265.30199999999996\n",
      "x                         int      3\n",
      "xy                        float    7.2\n",
      "y                         int      5\n"
     ]
    }
   ],
   "source": [
    "%whos"
   ]
  },
  {
   "cell_type": "code",
   "execution_count": 36,
   "id": "0fcd5fe9-72ef-403d-9851-9a123de8041e",
   "metadata": {},
   "outputs": [
    {
     "name": "stdout",
     "output_type": "stream",
     "text": [
      "True\n",
      "False\n",
      "False\n"
     ]
    }
   ],
   "source": [
    "# 'and' statements \n",
    "print(a and b)\n",
    "print( a and c)\n",
    "print(c and a)"
   ]
  },
  {
   "cell_type": "code",
   "execution_count": 37,
   "id": "6f09db4a-b816-45c5-9af2-00e007b84995",
   "metadata": {},
   "outputs": [
    {
     "name": "stdout",
     "output_type": "stream",
     "text": [
      "True\n"
     ]
    }
   ],
   "source": [
    "# 'or' statements\n",
    "d = a or c\n",
    "print(d)"
   ]
  },
  {
   "cell_type": "code",
   "execution_count": 38,
   "id": "02f8a3d3-320c-4e89-b5ee-a2dd3fef0ce3",
   "metadata": {},
   "outputs": [
    {
     "data": {
      "text/plain": [
       "False"
      ]
     },
     "execution_count": 38,
     "metadata": {},
     "output_type": "execute_result"
    }
   ],
   "source": [
    "# 'not' statements\n",
    "not(a)"
   ]
  },
  {
   "cell_type": "code",
   "execution_count": 39,
   "id": "b86c3bf2-2421-45f3-b686-f9d3dd3b7a9e",
   "metadata": {},
   "outputs": [
    {
     "data": {
      "text/plain": [
       "False"
      ]
     },
     "execution_count": 39,
     "metadata": {},
     "output_type": "execute_result"
    }
   ],
   "source": [
    "not(b)"
   ]
  },
  {
   "cell_type": "code",
   "execution_count": 40,
   "id": "d4757c9f-a676-4fb9-83c3-6de7c4fa3e13",
   "metadata": {},
   "outputs": [
    {
     "data": {
      "text/plain": [
       "True"
      ]
     },
     "execution_count": 40,
     "metadata": {},
     "output_type": "execute_result"
    }
   ],
   "source": [
    "not(c)"
   ]
  },
  {
   "cell_type": "code",
   "execution_count": 41,
   "id": "edd267fa-0e20-4203-9bd1-b7e841e7ae9a",
   "metadata": {},
   "outputs": [
    {
     "data": {
      "text/plain": [
       "False"
      ]
     },
     "execution_count": 41,
     "metadata": {},
     "output_type": "execute_result"
    }
   ],
   "source": [
    "not(d)"
   ]
  },
  {
   "cell_type": "code",
   "execution_count": 42,
   "id": "375091f6-15cb-4cf6-bec5-b22fe4c6733b",
   "metadata": {},
   "outputs": [
    {
     "name": "stdout",
     "output_type": "stream",
     "text": [
      "False\n"
     ]
    }
   ],
   "source": [
    "t = not(d)\n",
    "print(t)"
   ]
  },
  {
   "cell_type": "code",
   "execution_count": 43,
   "id": "6cb7ec2d-62da-41f1-9f42-4b14b80c4a8a",
   "metadata": {},
   "outputs": [
    {
     "data": {
      "text/plain": [
       "True"
      ]
     },
     "execution_count": 43,
     "metadata": {},
     "output_type": "execute_result"
    }
   ],
   "source": [
    "(a and b) or (c and d)"
   ]
  },
  {
   "cell_type": "code",
   "execution_count": 44,
   "id": "0b3b235f-97cc-4e9e-89ac-0b3a32fecefd",
   "metadata": {},
   "outputs": [
    {
     "data": {
      "text/plain": [
       "False"
      ]
     },
     "execution_count": 44,
     "metadata": {},
     "output_type": "execute_result"
    }
   ],
   "source": [
    "# why is 'False'?\n",
    "not (a and b) or (c and d)"
   ]
  },
  {
   "cell_type": "markdown",
   "id": "eb702c1e-fb1a-4f6a-aef9-22e11312dc31",
   "metadata": {},
   "source": [
    "# Comparisons"
   ]
  },
  {
   "cell_type": "code",
   "execution_count": 45,
   "id": "e366c662-55b4-4371-af3a-36b15e407ad1",
   "metadata": {},
   "outputs": [
    {
     "name": "stdout",
     "output_type": "stream",
     "text": [
      "True\n"
     ]
    }
   ],
   "source": [
    "print(2<3)"
   ]
  },
  {
   "cell_type": "code",
   "execution_count": 46,
   "id": "d354edf3-bc55-4c85-9f75-846ea8adaabb",
   "metadata": {},
   "outputs": [
    {
     "name": "stdout",
     "output_type": "stream",
     "text": [
      "<class 'bool'>\n",
      "True\n"
     ]
    }
   ],
   "source": [
    "c = 2 < 3\n",
    "print(type(c))\n",
    "print(c)"
   ]
  },
  {
   "cell_type": "code",
   "execution_count": 47,
   "id": "1294bb52-1550-4419-bf0e-037bab737f68",
   "metadata": {},
   "outputs": [
    {
     "name": "stdout",
     "output_type": "stream",
     "text": [
      "False\n"
     ]
    }
   ],
   "source": [
    "d = 3 == 4\n",
    "print(d)"
   ]
  },
  {
   "cell_type": "code",
   "execution_count": 48,
   "id": "1690dff9-12d2-4fb0-87bd-0093d19c1895",
   "metadata": {},
   "outputs": [
    {
     "data": {
      "text/plain": [
       "True"
      ]
     },
     "execution_count": 48,
     "metadata": {},
     "output_type": "execute_result"
    }
   ],
   "source": [
    "3 == 3.0"
   ]
  },
  {
   "cell_type": "code",
   "execution_count": 49,
   "id": "6c5f22b0-e44d-4297-98bf-e6e21f2949a9",
   "metadata": {},
   "outputs": [],
   "source": [
    "x = 4\n",
    "y = 9 \n",
    "z = 8.3\n",
    "r = -3"
   ]
  },
  {
   "cell_type": "code",
   "execution_count": 50,
   "id": "00799d41-1525-4037-80ce-23266bd62796",
   "metadata": {},
   "outputs": [
    {
     "data": {
      "text/plain": [
       "True"
      ]
     },
     "execution_count": 50,
     "metadata": {},
     "output_type": "execute_result"
    }
   ],
   "source": [
    "(x < y) and (z < y) or (r == x)"
   ]
  },
  {
   "cell_type": "code",
   "execution_count": 51,
   "id": "3938fb08-3a35-4a8b-be08-bf25654a92fd",
   "metadata": {},
   "outputs": [
    {
     "data": {
      "text/plain": [
       "True"
      ]
     },
     "execution_count": 51,
     "metadata": {},
     "output_type": "execute_result"
    }
   ],
   "source": [
    "(x < y) and (r == x) or (z < y)"
   ]
  },
  {
   "cell_type": "code",
   "execution_count": 52,
   "id": "38dee1d0-505c-4a78-8ae0-0b3508b8f778",
   "metadata": {},
   "outputs": [
    {
     "data": {
      "text/plain": [
       "False"
      ]
     },
     "execution_count": 52,
     "metadata": {},
     "output_type": "execute_result"
    }
   ],
   "source": [
    "(r == x) and (x < y) or (z > y)"
   ]
  },
  {
   "cell_type": "code",
   "execution_count": 53,
   "id": "8d82ba81-5e9a-4cf1-b529-ee6f69b4b804",
   "metadata": {},
   "outputs": [
    {
     "data": {
      "text/plain": [
       "False"
      ]
     },
     "execution_count": 53,
     "metadata": {},
     "output_type": "execute_result"
    }
   ],
   "source": [
    "# To explain above consider\n",
    "False or False and True"
   ]
  },
  {
   "cell_type": "code",
   "execution_count": 54,
   "id": "eaa02a8b-1e7a-4ded-a83e-b50999e80f0b",
   "metadata": {},
   "outputs": [
    {
     "data": {
      "text/plain": [
       "True"
      ]
     },
     "execution_count": 54,
     "metadata": {},
     "output_type": "execute_result"
    }
   ],
   "source": [
    "False and False or True"
   ]
  },
  {
   "cell_type": "code",
   "execution_count": 55,
   "id": "cf31fbdf-575d-4261-9262-bd0303e6f729",
   "metadata": {},
   "outputs": [
    {
     "data": {
      "text/plain": [
       "False"
      ]
     },
     "execution_count": 55,
     "metadata": {},
     "output_type": "execute_result"
    }
   ],
   "source": [
    "(True or False) and False"
   ]
  },
  {
   "cell_type": "code",
   "execution_count": 56,
   "id": "c7b9b9d7-342b-4dc3-82fa-258b31a937bf",
   "metadata": {},
   "outputs": [
    {
     "name": "stdout",
     "output_type": "stream",
     "text": [
      "False\n"
     ]
    }
   ],
   "source": [
    "# Question: What would the below result be?\n",
    "print((not(2!=3) and True) or (False and True))\n",
    "\n",
    "## The above explanation, the '(2!=3)' is True. \n",
    "## Second, you have 'not(True)' which is False. \n",
    "## Then you compare False or True will be False. \n",
    "## Lastly, you compare False to '(True and False)' will be False."
   ]
  },
  {
   "cell_type": "markdown",
   "id": "17281770-f437-41a5-8675-084e7d439a02",
   "metadata": {},
   "source": [
    "# Common functions"
   ]
  },
  {
   "cell_type": "code",
   "execution_count": 57,
   "id": "14ed6eb4-5958-45dd-9f04-7e0b3891eb97",
   "metadata": {},
   "outputs": [
    {
     "name": "stdout",
     "output_type": "stream",
     "text": [
      "6\n",
      "4.558\n"
     ]
    }
   ],
   "source": [
    "# round() function rounds the input value to a specified number of places or to the nearest integer\n",
    "\n",
    "print(round(5.6231)) # this rounds to the nearest whole number\n",
    "print(round(4.55842, 3)) # this is asking to round to 3 decimal places"
   ]
  },
  {
   "cell_type": "code",
   "execution_count": 58,
   "id": "0ba99ab2-2006-401b-a794-68e6f81580e1",
   "metadata": {},
   "outputs": [
    {
     "data": {
      "text/plain": [
       "(5, 2)"
      ]
     },
     "execution_count": 58,
     "metadata": {},
     "output_type": "execute_result"
    }
   ],
   "source": [
    "# divmod(x,y) outputs the quotient and the remainder in a tuple\n",
    "\n",
    "divmod(27,5) # when 27 is divided by 5 it equal 5 with a remainder of 2, which outputs (5, 2) called a tuple"
   ]
  },
  {
   "cell_type": "code",
   "execution_count": 59,
   "id": "43daa0fa-4824-42a3-80c2-8795e4e96d00",
   "metadata": {},
   "outputs": [],
   "source": [
    "G = divmod(34,9)"
   ]
  },
  {
   "cell_type": "code",
   "execution_count": 60,
   "id": "732e4d5e-773f-4252-806e-addba5db888d",
   "metadata": {},
   "outputs": [
    {
     "name": "stdout",
     "output_type": "stream",
     "text": [
      "<class 'tuple'>\n"
     ]
    }
   ],
   "source": [
    "print(type(G))"
   ]
  },
  {
   "cell_type": "code",
   "execution_count": 61,
   "id": "5a8cd7b5-10d7-4fc4-a5a7-1ff09bf18938",
   "metadata": {},
   "outputs": [
    {
     "name": "stdout",
     "output_type": "stream",
     "text": [
      "(3, 7)\n"
     ]
    }
   ],
   "source": [
    "print(G)"
   ]
  },
  {
   "cell_type": "code",
   "execution_count": 62,
   "id": "9bf759a4-0028-4641-a903-3f58fd4721ff",
   "metadata": {},
   "outputs": [
    {
     "data": {
      "text/plain": [
       "3"
      ]
     },
     "execution_count": 62,
     "metadata": {},
     "output_type": "execute_result"
    }
   ],
   "source": [
    "# Indexing\n",
    "G[0]"
   ]
  },
  {
   "cell_type": "code",
   "execution_count": 63,
   "id": "70ff81cc-08f9-4939-b6a3-ada4b41bd4b2",
   "metadata": {},
   "outputs": [
    {
     "data": {
      "text/plain": [
       "7"
      ]
     },
     "execution_count": 63,
     "metadata": {},
     "output_type": "execute_result"
    }
   ],
   "source": [
    "G[1]"
   ]
  },
  {
   "cell_type": "code",
   "execution_count": 64,
   "id": "695fff8c-d6da-4b2b-9fa6-ffe5e6368efe",
   "metadata": {},
   "outputs": [
    {
     "data": {
      "text/plain": [
       "3"
      ]
     },
     "execution_count": 64,
     "metadata": {},
     "output_type": "execute_result"
    }
   ],
   "source": [
    "# Similarly to finding the quotient and the remainder \n",
    "34//9 # outputs quoteint"
   ]
  },
  {
   "cell_type": "code",
   "execution_count": 65,
   "id": "85da6f25-0c27-456e-8c82-5b62299e7719",
   "metadata": {},
   "outputs": [
    {
     "data": {
      "text/plain": [
       "7"
      ]
     },
     "execution_count": 65,
     "metadata": {},
     "output_type": "execute_result"
    }
   ],
   "source": [
    "34%9 # output remainder "
   ]
  },
  {
   "cell_type": "code",
   "execution_count": 66,
   "id": "3a1b5a12-57aa-4b4f-9c6f-74a694c84f87",
   "metadata": {},
   "outputs": [
    {
     "name": "stdout",
     "output_type": "stream",
     "text": [
      "True\n",
      "False\n",
      "True\n"
     ]
    }
   ],
   "source": [
    "# isinstance() returns True, if the first argument is an instance of that class. Multiple classes can also be checked at once\n",
    "\n",
    "print(isinstance(1,int))\n",
    "print(isinstance(1.0, int)) # note that one is False because '1.0' is float, not an integer\n",
    "print(isinstance(1.0, (int,float)))"
   ]
  },
  {
   "cell_type": "code",
   "execution_count": 67,
   "id": "b437e733-2b37-4e66-ade7-4bc128ee50ca",
   "metadata": {},
   "outputs": [
    {
     "data": {
      "text/plain": [
       "True"
      ]
     },
     "execution_count": 67,
     "metadata": {},
     "output_type": "execute_result"
    }
   ],
   "source": [
    "isinstance(2+3j, (int, float, str, complex))"
   ]
  },
  {
   "cell_type": "code",
   "execution_count": 68,
   "id": "28905089-0f73-4ab6-9ea8-322c9e5751bc",
   "metadata": {},
   "outputs": [
    {
     "data": {
      "text/plain": [
       "16"
      ]
     },
     "execution_count": 68,
     "metadata": {},
     "output_type": "execute_result"
    }
   ],
   "source": [
    "# pow(x,y,z) x raise to the power y and remainder by z\n",
    "\n",
    "pow(2,4)"
   ]
  },
  {
   "cell_type": "code",
   "execution_count": 69,
   "id": "89c03ad8-062b-4755-91d9-7988721c54ee",
   "metadata": {},
   "outputs": [
    {
     "data": {
      "text/plain": [
       "16"
      ]
     },
     "execution_count": 69,
     "metadata": {},
     "output_type": "execute_result"
    }
   ],
   "source": [
    "2**4"
   ]
  },
  {
   "cell_type": "code",
   "execution_count": 70,
   "id": "d1f4e22a-f830-4a07-b8d2-9d32baa1782a",
   "metadata": {},
   "outputs": [
    {
     "data": {
      "text/plain": [
       "2"
      ]
     },
     "execution_count": 70,
     "metadata": {},
     "output_type": "execute_result"
    }
   ],
   "source": [
    "pow(2,4,7) #  x raise to the power y and remainder by z; therefore, 2^4 = 16 then take the remainder of 16/7 = 2 with remainder 2"
   ]
  },
  {
   "cell_type": "code",
   "execution_count": 72,
   "id": "05f0b9d8-f48a-4a48-97b5-5505cceebf6f",
   "metadata": {},
   "outputs": [
    {
     "name": "stdin",
     "output_type": "stream",
     "text": [
      "Enter a number:  56\n"
     ]
    }
   ],
   "source": [
    "# input() a = input(\"Enter something\")\n",
    "## Note that anything input using input() function will be , by default, a 'str' string\n",
    "\n",
    "x = input(\"Enter a number: \")\n"
   ]
  },
  {
   "cell_type": "code",
   "execution_count": 73,
   "id": "fade7ec9-be8b-4185-a9b4-500022173975",
   "metadata": {},
   "outputs": [
    {
     "data": {
      "text/plain": [
       "str"
      ]
     },
     "execution_count": 73,
     "metadata": {},
     "output_type": "execute_result"
    }
   ],
   "source": [
    "type(x)"
   ]
  },
  {
   "cell_type": "code",
   "execution_count": 74,
   "id": "e5a6c51d-cb71-44c2-b41b-a7eaf0d4e131",
   "metadata": {},
   "outputs": [
    {
     "name": "stdout",
     "output_type": "stream",
     "text": [
      "56\n"
     ]
    },
    {
     "data": {
      "text/plain": [
       "int"
      ]
     },
     "execution_count": 74,
     "metadata": {},
     "output_type": "execute_result"
    }
   ],
   "source": [
    "# You can convert the x from input above into an integer\n",
    "x = int(x)\n",
    "\n",
    "print(x)\n",
    "type(x)"
   ]
  },
  {
   "cell_type": "code",
   "execution_count": 75,
   "id": "92f11e54-ae5c-4c88-b131-57bc33004ff8",
   "metadata": {},
   "outputs": [
    {
     "name": "stdout",
     "output_type": "stream",
     "text": [
      "22\n"
     ]
    }
   ],
   "source": [
    "# Now that 'x' is an interger you can do typical mathetimatical manipulations such as \n",
    "print(x-34)"
   ]
  },
  {
   "cell_type": "code",
   "execution_count": 76,
   "id": "ad1e865c-333c-485a-991f-9ad3acc3425f",
   "metadata": {},
   "outputs": [
    {
     "name": "stdin",
     "output_type": "stream",
     "text": [
      "Enter a real number:  12.5\n"
     ]
    }
   ],
   "source": [
    "# You can assign your input as a float or integer from the beginning\n",
    "a  = float(input(\"Enter a real number: \"))"
   ]
  },
  {
   "cell_type": "code",
   "execution_count": 77,
   "id": "7747bf69-0a12-4217-bb07-0ceb50241839",
   "metadata": {},
   "outputs": [
    {
     "data": {
      "text/plain": [
       "float"
      ]
     },
     "execution_count": 77,
     "metadata": {},
     "output_type": "execute_result"
    }
   ],
   "source": [
    "type(a)"
   ]
  },
  {
   "cell_type": "code",
   "execution_count": 78,
   "id": "3b436b71-2328-49c6-85bf-99107fbd286d",
   "metadata": {},
   "outputs": [
    {
     "name": "stdin",
     "output_type": "stream",
     "text": [
      "Enter a real number:  abc\n"
     ]
    },
    {
     "ename": "ValueError",
     "evalue": "could not convert string to float: 'abc'",
     "output_type": "error",
     "traceback": [
      "\u001b[0;31m---------------------------------------------------------------------------\u001b[0m",
      "\u001b[0;31mValueError\u001b[0m                                Traceback (most recent call last)",
      "Cell \u001b[0;32mIn[78], line 2\u001b[0m\n\u001b[1;32m      1\u001b[0m \u001b[38;5;66;03m# What if user does not input a float?\u001b[39;00m\n\u001b[0;32m----> 2\u001b[0m b \u001b[38;5;241m=\u001b[39m \u001b[38;5;28;43mfloat\u001b[39;49m\u001b[43m(\u001b[49m\u001b[38;5;28;43minput\u001b[39;49m\u001b[43m(\u001b[49m\u001b[38;5;124;43m\"\u001b[39;49m\u001b[38;5;124;43mEnter a real number: \u001b[39;49m\u001b[38;5;124;43m\"\u001b[39;49m\u001b[43m)\u001b[49m\u001b[43m)\u001b[49m \u001b[38;5;66;03m# as a programmer you can make this code more restrictive to 'force' user to input desired input\u001b[39;00m\n",
      "\u001b[0;31mValueError\u001b[0m: could not convert string to float: 'abc'"
     ]
    }
   ],
   "source": [
    "# What if user does not input a float?\n",
    "b = float(input(\"Enter a real number: \")) # as a programmer you can make this code more restrictive to 'force' user to input desired input"
   ]
  },
  {
   "cell_type": "code",
   "execution_count": 79,
   "id": "6a3dc6b5-835f-493c-a153-67f08609bb52",
   "metadata": {},
   "outputs": [
    {
     "data": {
      "text/plain": [
       "\u001b[0;31mSignature:\u001b[0m \u001b[0mpow\u001b[0m\u001b[0;34m(\u001b[0m\u001b[0mbase\u001b[0m\u001b[0;34m,\u001b[0m \u001b[0mexp\u001b[0m\u001b[0;34m,\u001b[0m \u001b[0mmod\u001b[0m\u001b[0;34m=\u001b[0m\u001b[0;32mNone\u001b[0m\u001b[0;34m)\u001b[0m\u001b[0;34m\u001b[0m\u001b[0;34m\u001b[0m\u001b[0m\n",
       "\u001b[0;31mDocstring:\u001b[0m\n",
       "Equivalent to base**exp with 2 arguments or base**exp % mod with 3 arguments\n",
       "\n",
       "Some types, such as ints, are able to use a more efficient algorithm when\n",
       "invoked using the three argument form.\n",
       "\u001b[0;31mType:\u001b[0m      builtin_function_or_method"
      ]
     },
     "metadata": {},
     "output_type": "display_data"
    }
   ],
   "source": [
    "# You can use '?' afetr function to see how to use. You can also use ' help()' \n",
    "pow?"
   ]
  },
  {
   "cell_type": "code",
   "execution_count": 80,
   "id": "08d473ef-91d1-46fd-b31c-1948a0986115",
   "metadata": {},
   "outputs": [
    {
     "data": {
      "text/plain": [
       "\u001b[0;31mSignature:\u001b[0m \u001b[0minput\u001b[0m\u001b[0;34m(\u001b[0m\u001b[0mprompt\u001b[0m\u001b[0;34m=\u001b[0m\u001b[0;34m''\u001b[0m\u001b[0;34m)\u001b[0m\u001b[0;34m\u001b[0m\u001b[0;34m\u001b[0m\u001b[0m\n",
       "\u001b[0;31mDocstring:\u001b[0m\n",
       "Forward raw_input to frontends\n",
       "\n",
       "Raises\n",
       "------\n",
       "StdinNotImplementedError if active frontend doesn't support stdin.\n",
       "\u001b[0;31mFile:\u001b[0m      /Library/Frameworks/Python.framework/Versions/3.11/lib/python3.11/site-packages/ipykernel/kernelbase.py\n",
       "\u001b[0;31mType:\u001b[0m      method"
      ]
     },
     "metadata": {},
     "output_type": "display_data"
    }
   ],
   "source": [
    "# For other more complex functions you can use '??' after function to see further insights of the function\n",
    "input?"
   ]
  },
  {
   "cell_type": "code",
   "execution_count": 81,
   "id": "3ff39e12-79ee-4190-a645-1c574b1857b7",
   "metadata": {},
   "outputs": [
    {
     "data": {
      "text/plain": [
       "\u001b[0;31mSignature:\u001b[0m \u001b[0minput\u001b[0m\u001b[0;34m(\u001b[0m\u001b[0mprompt\u001b[0m\u001b[0;34m=\u001b[0m\u001b[0;34m''\u001b[0m\u001b[0;34m)\u001b[0m\u001b[0;34m\u001b[0m\u001b[0;34m\u001b[0m\u001b[0m\n",
       "\u001b[0;31mSource:\u001b[0m   \n",
       "    \u001b[0;32mdef\u001b[0m \u001b[0mraw_input\u001b[0m\u001b[0;34m(\u001b[0m\u001b[0mself\u001b[0m\u001b[0;34m,\u001b[0m \u001b[0mprompt\u001b[0m\u001b[0;34m=\u001b[0m\u001b[0;34m\"\"\u001b[0m\u001b[0;34m)\u001b[0m\u001b[0;34m:\u001b[0m\u001b[0;34m\u001b[0m\n",
       "\u001b[0;34m\u001b[0m        \u001b[0;34m\"\"\"Forward raw_input to frontends\u001b[0m\n",
       "\u001b[0;34m\u001b[0m\n",
       "\u001b[0;34m        Raises\u001b[0m\n",
       "\u001b[0;34m        ------\u001b[0m\n",
       "\u001b[0;34m        StdinNotImplementedError if active frontend doesn't support stdin.\u001b[0m\n",
       "\u001b[0;34m        \"\"\"\u001b[0m\u001b[0;34m\u001b[0m\n",
       "\u001b[0;34m\u001b[0m        \u001b[0;32mif\u001b[0m \u001b[0;32mnot\u001b[0m \u001b[0mself\u001b[0m\u001b[0;34m.\u001b[0m\u001b[0m_allow_stdin\u001b[0m\u001b[0;34m:\u001b[0m\u001b[0;34m\u001b[0m\n",
       "\u001b[0;34m\u001b[0m            \u001b[0mmsg\u001b[0m \u001b[0;34m=\u001b[0m \u001b[0;34m\"raw_input was called, but this frontend does not support input requests.\"\u001b[0m\u001b[0;34m\u001b[0m\n",
       "\u001b[0;34m\u001b[0m            \u001b[0;32mraise\u001b[0m \u001b[0mStdinNotImplementedError\u001b[0m\u001b[0;34m(\u001b[0m\u001b[0mmsg\u001b[0m\u001b[0;34m)\u001b[0m\u001b[0;34m\u001b[0m\n",
       "\u001b[0;34m\u001b[0m        \u001b[0;32mreturn\u001b[0m \u001b[0mself\u001b[0m\u001b[0;34m.\u001b[0m\u001b[0m_input_request\u001b[0m\u001b[0;34m(\u001b[0m\u001b[0;34m\u001b[0m\n",
       "\u001b[0;34m\u001b[0m            \u001b[0mstr\u001b[0m\u001b[0;34m(\u001b[0m\u001b[0mprompt\u001b[0m\u001b[0;34m)\u001b[0m\u001b[0;34m,\u001b[0m\u001b[0;34m\u001b[0m\n",
       "\u001b[0;34m\u001b[0m            \u001b[0mself\u001b[0m\u001b[0;34m.\u001b[0m\u001b[0m_parent_ident\u001b[0m\u001b[0;34m[\u001b[0m\u001b[0;34m\"shell\"\u001b[0m\u001b[0;34m]\u001b[0m\u001b[0;34m,\u001b[0m\u001b[0;34m\u001b[0m\n",
       "\u001b[0;34m\u001b[0m            \u001b[0mself\u001b[0m\u001b[0;34m.\u001b[0m\u001b[0mget_parent\u001b[0m\u001b[0;34m(\u001b[0m\u001b[0;34m\"shell\"\u001b[0m\u001b[0;34m)\u001b[0m\u001b[0;34m,\u001b[0m\u001b[0;34m\u001b[0m\n",
       "\u001b[0;34m\u001b[0m            \u001b[0mpassword\u001b[0m\u001b[0;34m=\u001b[0m\u001b[0;32mFalse\u001b[0m\u001b[0;34m,\u001b[0m\u001b[0;34m\u001b[0m\n",
       "\u001b[0;34m\u001b[0m        \u001b[0;34m)\u001b[0m\u001b[0;34m\u001b[0m\u001b[0;34m\u001b[0m\u001b[0m\n",
       "\u001b[0;31mFile:\u001b[0m      /Library/Frameworks/Python.framework/Versions/3.11/lib/python3.11/site-packages/ipykernel/kernelbase.py\n",
       "\u001b[0;31mType:\u001b[0m      method"
      ]
     },
     "metadata": {},
     "output_type": "display_data"
    }
   ],
   "source": [
    "input??"
   ]
  },
  {
   "cell_type": "markdown",
   "id": "43236642-3393-4bf1-bad9-d5da3d7669fd",
   "metadata": {},
   "source": [
    "# Control Flow"
   ]
  },
  {
   "cell_type": "markdown",
   "id": "6944319e-92d3-4762-93af-e9d1597a8ac5",
   "metadata": {},
   "source": [
    "## Control Flow (If statements)"
   ]
  },
  {
   "cell_type": "code",
   "execution_count": 82,
   "id": "dc68d4be-9f76-43a5-bf92-462b459b1b01",
   "metadata": {},
   "outputs": [
    {
     "name": "stdin",
     "output_type": "stream",
     "text": [
      " 4\n",
      " 6\n"
     ]
    },
    {
     "name": "stdout",
     "output_type": "stream",
     "text": [
      "b is greater than a\n"
     ]
    }
   ],
   "source": [
    "## How would you solve this problem\n",
    "# a = int(input())\n",
    "# b = int(input())\n",
    "\n",
    "# Task: print only the bigger number\n",
    "\n",
    "## One approach\n",
    "a = int(input())\n",
    "b = int(input())\n",
    "\n",
    "if b > a:\n",
    "    print(\"b is greater than a\")"
   ]
  },
  {
   "cell_type": "code",
   "execution_count": 83,
   "id": "618b1ccf-c4b9-4dda-9c86-f5accdb1b99f",
   "metadata": {},
   "outputs": [
    {
     "name": "stdin",
     "output_type": "stream",
     "text": [
      " 8\n",
      " 4\n"
     ]
    }
   ],
   "source": [
    "# What if b is not greater than a?\n",
    "a = int(input())\n",
    "b = int(input())\n",
    "\n",
    "if b > a:\n",
    "    print(\"b is greater than a\")\n",
    "\n",
    "## Note that nothing happens other than assigning values to a and b"
   ]
  },
  {
   "cell_type": "code",
   "execution_count": 84,
   "id": "9cba3258-7d89-43a5-81ab-61cde76d2705",
   "metadata": {},
   "outputs": [
    {
     "name": "stdin",
     "output_type": "stream",
     "text": [
      " 10\n",
      " 8\n"
     ]
    },
    {
     "name": "stdout",
     "output_type": "stream",
     "text": [
      "b is less than a\n"
     ]
    }
   ],
   "source": [
    "## how to approach the issue above?\n",
    "a = int(input())\n",
    "b = int(input())\n",
    "\n",
    "if b > a:\n",
    "    print(a)\n",
    "    print(\"b is greater than a\")\n",
    "print(\"b is less than a\")"
   ]
  },
  {
   "cell_type": "code",
   "execution_count": 88,
   "id": "8f0f9be8-24a2-41bd-ad79-d0e19122cafa",
   "metadata": {},
   "outputs": [
    {
     "name": "stdin",
     "output_type": "stream",
     "text": [
      " 10\n",
      " 8\n"
     ]
    },
    {
     "name": "stdout",
     "output_type": "stream",
     "text": [
      "10\n"
     ]
    }
   ],
   "source": [
    "# How to better approach code above so that you're only printing the larger number\n",
    "a = int(input())\n",
    "b = int(input())\n",
    "\n",
    "if a > b:\n",
    "    print(a)\n",
    "if a < b:\n",
    "    print(b)"
   ]
  },
  {
   "cell_type": "markdown",
   "id": "bc1083d1-bd77-4d91-a8b1-c76d1c64582f",
   "metadata": {},
   "source": [
    "## Control Flow (If-Else statements)"
   ]
  },
  {
   "cell_type": "code",
   "execution_count": 89,
   "id": "d0c88bb1-b5de-4e51-b185-a8387390b462",
   "metadata": {},
   "outputs": [
    {
     "name": "stdin",
     "output_type": "stream",
     "text": [
      " 10\n",
      " 8\n"
     ]
    },
    {
     "name": "stdout",
     "output_type": "stream",
     "text": [
      "b is not greater than a\n"
     ]
    }
   ],
   "source": [
    "a = int(input())\n",
    "b = int(input())\n",
    "\n",
    "if b > a:\n",
    "    print(\"b is greater than a\")\n",
    "else:\n",
    "    print(\"b is not greater than a\")"
   ]
  },
  {
   "cell_type": "code",
   "execution_count": 92,
   "id": "cd1a6ed5-b096-417b-9227-90c4ba40f77a",
   "metadata": {},
   "outputs": [
    {
     "name": "stdin",
     "output_type": "stream",
     "text": [
      " 10\n",
      " 10\n"
     ]
    },
    {
     "name": "stdout",
     "output_type": "stream",
     "text": [
      "10\n",
      "else part\n"
     ]
    }
   ],
   "source": [
    "# What if the values were equal?\n",
    "a = int(input())\n",
    "b = int(input())\n",
    "\n",
    "if b > a:\n",
    "    print(a)\n",
    "    print(\"if part\")\n",
    "else:\n",
    "    print(b)\n",
    "    print(\"else part\") \n",
    "## Note that when the values are equal and you're using this statement of code the if portion would be false because 10 is not greater than 10. However, the else will print because in this code you're saying that if the 'if' part is not true, then print else part. "
   ]
  },
  {
   "cell_type": "markdown",
   "id": "c85128a8-3f4b-4c44-94d9-40d0ee863d19",
   "metadata": {},
   "source": [
    "## Control Flow (If-Elif-Else statements)"
   ]
  },
  {
   "cell_type": "code",
   "execution_count": 93,
   "id": "95a0d845-58a4-484e-b214-26fc833f5660",
   "metadata": {},
   "outputs": [
    {
     "name": "stdin",
     "output_type": "stream",
     "text": [
      "Enter first number:  10\n",
      "Enter first number:  10\n"
     ]
    },
    {
     "name": "stdout",
     "output_type": "stream",
     "text": [
      "a and b are equal\n"
     ]
    }
   ],
   "source": [
    "a = float(input(\"Enter first number: \"))\n",
    "b = float(input(\"Enter first number: \"))\n",
    "\n",
    "if b > a:\n",
    "    print(\"b is greater than a\")\n",
    "elif a == b:\n",
    "    print(\"a and b are equal\")\n",
    "else:\n",
    "    print(\"a is greater than b\")"
   ]
  },
  {
   "cell_type": "code",
   "execution_count": 94,
   "id": "97028a20-597d-4822-adbd-2c2c9cd98c7a",
   "metadata": {},
   "outputs": [
    {
     "name": "stdout",
     "output_type": "stream",
     "text": [
      "B\n",
      "Not in if\n"
     ]
    }
   ],
   "source": [
    "a = 1\n",
    "b = 5\n",
    "\n",
    "if a == b:\n",
    "    print(\"Equal\")\n",
    "elif a > b:\n",
    "    print(\"A\")\n",
    "else:\n",
    "    print(\"B\")\n",
    "print(\"Not in if\")"
   ]
  },
  {
   "cell_type": "markdown",
   "id": "263dfeff-f030-441e-ba4b-397386d7e235",
   "metadata": {},
   "source": [
    "## Control Flow (short hand if)"
   ]
  },
  {
   "cell_type": "code",
   "execution_count": 97,
   "id": "ed41b4c5-9296-4ff1-9d37-122085bd51ec",
   "metadata": {},
   "outputs": [
    {
     "name": "stdout",
     "output_type": "stream",
     "text": [
      "B\n"
     ]
    }
   ],
   "source": [
    "a = 9\n",
    "b = 10\n",
    "print(\"A\") if a > b else print(\"=\") if a == b else print(\"B\")\n",
    "## although for this short hand is nice for shorter code. But larger code, the methods above is better because it is more readable"
   ]
  },
  {
   "cell_type": "code",
   "execution_count": 98,
   "id": "827d7a37-9088-4263-a02e-f3fef01b963a",
   "metadata": {},
   "outputs": [
    {
     "name": "stdin",
     "output_type": "stream",
     "text": [
      "Enter Marks:  82\n"
     ]
    },
    {
     "name": "stdout",
     "output_type": "stream",
     "text": [
      "A- grade\n"
     ]
    }
   ],
   "source": [
    "# Another example with ifs, elifs, and else statements using grade marks\n",
    "a = int(input(\"Enter Marks: \"))\n",
    "\n",
    "if a >= 85:\n",
    "    print(\"A grade\")\n",
    "elif (a < 85) and (a >= 80):\n",
    "    print(\"A- grade\")\n",
    "elif (a < 80) and (a >= 75):\n",
    "    print(\"B grade\")\n",
    "elif (a < 75) and (a >= 70):\n",
    "    print(\"B- grade\")\n",
    "else:\n",
    "    print(\"Below Average\")"
   ]
  },
  {
   "cell_type": "code",
   "execution_count": 101,
   "id": "8501adfb-a9dd-44e2-bf80-78a9c8dc61b8",
   "metadata": {},
   "outputs": [
    {
     "name": "stdout",
     "output_type": "stream",
     "text": [
      "Else part\n"
     ]
    }
   ],
   "source": [
    "# another approach to writing an else condition, without writing 'else'\n",
    "a = 3\n",
    "if a > 10:\n",
    "    print(\"> 10\")\n",
    "elif not(a > 10):\n",
    "    print(\"Else part\")"
   ]
  },
  {
   "cell_type": "markdown",
   "id": "dfcccfc9-b29b-4395-a317-75c6a8908b84",
   "metadata": {},
   "source": [
    "## Control Flow (Nested If)"
   ]
  },
  {
   "cell_type": "code",
   "execution_count": 102,
   "id": "86af1335-61c5-4d8c-a5a7-0127a8ee069c",
   "metadata": {},
   "outputs": [
    {
     "name": "stdin",
     "output_type": "stream",
     "text": [
      "Enter a number:  50\n"
     ]
    },
    {
     "name": "stdout",
     "output_type": "stream",
     "text": [
      "Your number is above ten, \n",
      "and also above 20!\n"
     ]
    }
   ],
   "source": [
    "x = int(input(\"Enter a number: \"))\n",
    "\n",
    "if x > 10:\n",
    "    print(\"Your number is above ten, \")\n",
    "    if x > 20:\n",
    "        print(\"and also above 20!\")\n",
    "    else: \n",
    "        print(\"but not above 20.\")"
   ]
  },
  {
   "cell_type": "code",
   "execution_count": 103,
   "id": "17b4c027-7b0a-4d01-8f2b-f176f2f6bfe5",
   "metadata": {},
   "outputs": [
    {
     "name": "stdin",
     "output_type": "stream",
     "text": [
      " 45\n"
     ]
    },
    {
     "name": "stdout",
     "output_type": "stream",
     "text": [
      "> 10\n",
      "Inside the top if\n",
      "> 20\n",
      "Inside the nested if\n",
      "Outside all ifs\n"
     ]
    }
   ],
   "source": [
    "a = int(input())\n",
    "\n",
    "if a > 10:\n",
    "    print(\"> 10\")\n",
    "    print(\"Inside the top if\")\n",
    "    if a > 20:\n",
    "        print(\"> 20\")\n",
    "        print(\"Inside the nested if\")\n",
    "    else:\n",
    "        print(\"<= 20\")\n",
    "        print(\"Inside the else part of nested if\")\n",
    "\n",
    "print(\"Outside all ifs\")"
   ]
  },
  {
   "cell_type": "code",
   "execution_count": 111,
   "id": "ca4bf22e-95d5-432b-843d-2a5ac79f4533",
   "metadata": {},
   "outputs": [
    {
     "name": "stdin",
     "output_type": "stream",
     "text": [
      "Enter a real number:  23.7\n"
     ]
    },
    {
     "name": "stdout",
     "output_type": "stream",
     "text": [
      "Odd\n"
     ]
    }
   ],
   "source": [
    "# single line comment\n",
    "## Below is known as a multi-line comment\n",
    "\"\"\" User will enter a floating poiint number: 238.915. Your task \n",
    "is to find out the interger portion before the point (in this case 238)\n",
    "and then check if that integer portion is an even number of not?\n",
    "\"\"\"\n",
    "\n",
    "x = float(input(\"Enter a real number: \"))\n",
    "y = round(x)\n",
    "\n",
    "if x > 0:\n",
    "    if y > x:\n",
    "        intPortion = y - 1 \n",
    "    else: \n",
    "        intPortion = y\n",
    "else:\n",
    "    if y < x:\n",
    "        intPortion = y + 1\n",
    "    else:\n",
    "        intPortion = y\n",
    "\n",
    "if intPortion%2 == 0:\n",
    "    print(\"Even\")\n",
    "else:\n",
    "    print(\"Odd\")"
   ]
  },
  {
   "cell_type": "markdown",
   "id": "dfe1f46e-0202-4c89-9b17-37da7396a0fe",
   "metadata": {},
   "source": [
    "## Control Flow (Loops)"
   ]
  },
  {
   "cell_type": "code",
   "execution_count": null,
   "id": "5c2f3b27-4904-4b96-95f4-c51ee31ef871",
   "metadata": {},
   "outputs": [],
   "source": []
  },
  {
   "cell_type": "code",
   "execution_count": null,
   "id": "5bc34412-6229-43a0-8b9b-05f535fe187b",
   "metadata": {},
   "outputs": [],
   "source": []
  },
  {
   "cell_type": "code",
   "execution_count": null,
   "id": "4db9ab7e-28a2-437e-9bc3-2384589ef31c",
   "metadata": {},
   "outputs": [],
   "source": []
  },
  {
   "cell_type": "code",
   "execution_count": null,
   "id": "092d65a6-a4c6-4065-8e1e-214ec51bb3b1",
   "metadata": {},
   "outputs": [],
   "source": []
  },
  {
   "cell_type": "code",
   "execution_count": null,
   "id": "d65e2185-fc38-46c5-8c83-332cd71b8971",
   "metadata": {},
   "outputs": [],
   "source": []
  },
  {
   "cell_type": "code",
   "execution_count": null,
   "id": "4ee364bc-5af5-4cef-8988-3c0b2fe23e3b",
   "metadata": {},
   "outputs": [],
   "source": []
  },
  {
   "cell_type": "code",
   "execution_count": null,
   "id": "3811166e-e8c3-4d5c-8ef8-c610dd941ab2",
   "metadata": {},
   "outputs": [],
   "source": []
  },
  {
   "cell_type": "code",
   "execution_count": null,
   "id": "621fe308-5648-42f8-a85f-3bd3a22b41c6",
   "metadata": {},
   "outputs": [],
   "source": []
  },
  {
   "cell_type": "code",
   "execution_count": null,
   "id": "26627ff0-19f0-4ef7-802d-1208fe704448",
   "metadata": {},
   "outputs": [],
   "source": []
  },
  {
   "cell_type": "code",
   "execution_count": null,
   "id": "0c4c5f98-446e-4d15-9d0b-4f9a5d267175",
   "metadata": {},
   "outputs": [],
   "source": []
  }
 ],
 "metadata": {
  "kernelspec": {
   "display_name": "Python 3 (ipykernel)",
   "language": "python",
   "name": "python3"
  },
  "language_info": {
   "codemirror_mode": {
    "name": "ipython",
    "version": 3
   },
   "file_extension": ".py",
   "mimetype": "text/x-python",
   "name": "python",
   "nbconvert_exporter": "python",
   "pygments_lexer": "ipython3",
   "version": "3.11.3"
  }
 },
 "nbformat": 4,
 "nbformat_minor": 5
}
